{
 "cells": [
  {
   "cell_type": "code",
   "execution_count": 123,
   "metadata": {},
   "outputs": [],
   "source": [
    "from align import *"
   ]
  },
  {
   "cell_type": "code",
   "execution_count": 124,
   "metadata": {},
   "outputs": [],
   "source": [
    "manifest_loc = '/grid/home/nbourgeois/wip/ampliseq_compare/amplicon_manifest.txt'\n",
    "alignment_path = '/grid/home/nbourgeois/nbourgeois_scripts/snakemake/miseq/tests/ampliseq_run_2201/data/aligned/HUM180201A_S4.bam'\n",
    "\n",
    "ampliseq_manifest = pd.read_csv(manifest_loc,sep='\\t',skiprows=9)\n",
    "ampliseq_manifest = ampliseq_manifest.set_index('Target ID')"
   ]
  },
  {
   "cell_type": "code",
   "execution_count": 125,
   "metadata": {},
   "outputs": [],
   "source": [
    "def clean_transcipt_df(ampliseq_manifest):\n",
    "    # get transcripts that appear multiple times in the manifest\n",
    "    df_tran = ampliseq_manifest.reset_index().groupby('Transcript ID').count()\n",
    "    multi_trans = df_tran.loc[df_tran['Target ID']>1].index.values\n",
    "\n",
    "    for transcript in multi_trans:\n",
    "        amp_t = ampliseq_manifest.loc[ampliseq_manifest['Transcript ID']==transcript]\n",
    "        gene_list = amp_t['Gene']\n",
    "        if any(~gene_list.isna()):\n",
    "            gene = gene_list[~gene_list.isna()][0]\n",
    "            ampliseq_manifest.loc[ampliseq_manifest['Transcript ID']==transcript,'Gene'] = gene\n",
    "    return(ampliseq_manifest)"
   ]
  },
  {
   "cell_type": "code",
   "execution_count": 126,
   "metadata": {},
   "outputs": [],
   "source": [
    "df = create_alignment_df(alignment_path)\n"
   ]
  },
  {
   "cell_type": "code",
   "execution_count": 127,
   "metadata": {},
   "outputs": [],
   "source": [
    "ser_counts,ser_ambig,ser_metrics = sort_reads(df,verbose=False,)"
   ]
  },
  {
   "cell_type": "code",
   "execution_count": 137,
   "metadata": {},
   "outputs": [],
   "source": [
    "ser_vals = ser_counts\n",
    "val_table = ampliseq_manifest[['Gene','Transcript ID']].copy()\n",
    "\n",
    "# algined to target ref\n",
    "if len([x for x in ser_vals.index if x in val_table.index]) > 0:\n",
    "    val_table.loc[ser_vals.index,'val'] = ser_vals.values\n",
    "    val_table = val_table.loc[~val_table['Gene'].isna()]\n",
    "    val_table = val_table.fillna(0) \n"
   ]
  },
  {
   "cell_type": "code",
   "execution_count": 136,
   "metadata": {},
   "outputs": [
    {
     "data": {
      "text/html": [
       "<div>\n",
       "<style scoped>\n",
       "    .dataframe tbody tr th:only-of-type {\n",
       "        vertical-align: middle;\n",
       "    }\n",
       "\n",
       "    .dataframe tbody tr th {\n",
       "        vertical-align: top;\n",
       "    }\n",
       "\n",
       "    .dataframe thead th {\n",
       "        text-align: right;\n",
       "    }\n",
       "</style>\n",
       "<table border=\"1\" class=\"dataframe\">\n",
       "  <thead>\n",
       "    <tr style=\"text-align: right;\">\n",
       "      <th></th>\n",
       "      <th>Gene</th>\n",
       "      <th>Transcript ID</th>\n",
       "      <th>val</th>\n",
       "    </tr>\n",
       "    <tr>\n",
       "      <th>Target ID</th>\n",
       "      <th></th>\n",
       "      <th></th>\n",
       "      <th></th>\n",
       "    </tr>\n",
       "  </thead>\n",
       "  <tbody>\n",
       "    <tr>\n",
       "      <th>T00001</th>\n",
       "      <td>WASH7P</td>\n",
       "      <td>NR_024540</td>\n",
       "      <td>4.0</td>\n",
       "    </tr>\n",
       "    <tr>\n",
       "      <th>T00002</th>\n",
       "      <td>OR4F5</td>\n",
       "      <td>NM_001005484</td>\n",
       "      <td>NaN</td>\n",
       "    </tr>\n",
       "    <tr>\n",
       "      <th>T00003</th>\n",
       "      <td>LOC729737</td>\n",
       "      <td>NR_039983</td>\n",
       "      <td>NaN</td>\n",
       "    </tr>\n",
       "    <tr>\n",
       "      <th>T00004</th>\n",
       "      <td>OR4F3</td>\n",
       "      <td>NM_001005224</td>\n",
       "      <td>NaN</td>\n",
       "    </tr>\n",
       "    <tr>\n",
       "      <th>T00005</th>\n",
       "      <td>LOC100288069</td>\n",
       "      <td>NR_033908</td>\n",
       "      <td>NaN</td>\n",
       "    </tr>\n",
       "    <tr>\n",
       "      <th>...</th>\n",
       "      <td>...</td>\n",
       "      <td>...</td>\n",
       "      <td>...</td>\n",
       "    </tr>\n",
       "    <tr>\n",
       "      <th>T28684</th>\n",
       "      <td>PECAM1</td>\n",
       "      <td>NM_000442</td>\n",
       "      <td>NaN</td>\n",
       "    </tr>\n",
       "    <tr>\n",
       "      <th>T28685</th>\n",
       "      <td>RNF5P1</td>\n",
       "      <td>NR_003129</td>\n",
       "      <td>NaN</td>\n",
       "    </tr>\n",
       "    <tr>\n",
       "      <th>T28686</th>\n",
       "      <td>SNORA19</td>\n",
       "      <td>NR_002917</td>\n",
       "      <td>1.0</td>\n",
       "    </tr>\n",
       "    <tr>\n",
       "      <th>T28687</th>\n",
       "      <td>SNORA36A</td>\n",
       "      <td>NR_002969</td>\n",
       "      <td>NaN</td>\n",
       "    </tr>\n",
       "    <tr>\n",
       "      <th>T28688</th>\n",
       "      <td>SNORA36C</td>\n",
       "      <td>NR_003705</td>\n",
       "      <td>NaN</td>\n",
       "    </tr>\n",
       "  </tbody>\n",
       "</table>\n",
       "<p>24488 rows × 3 columns</p>\n",
       "</div>"
      ],
      "text/plain": [
       "                   Gene Transcript ID  val\n",
       "Target ID                                 \n",
       "T00001           WASH7P     NR_024540  4.0\n",
       "T00002            OR4F5  NM_001005484  NaN\n",
       "T00003        LOC729737     NR_039983  NaN\n",
       "T00004            OR4F3  NM_001005224  NaN\n",
       "T00005     LOC100288069     NR_033908  NaN\n",
       "...                 ...           ...  ...\n",
       "T28684           PECAM1     NM_000442  NaN\n",
       "T28685           RNF5P1     NR_003129  NaN\n",
       "T28686          SNORA19     NR_002917  1.0\n",
       "T28687         SNORA36A     NR_002969  NaN\n",
       "T28688         SNORA36C     NR_003705  NaN\n",
       "\n",
       "[24488 rows x 3 columns]"
      ]
     },
     "execution_count": 136,
     "metadata": {},
     "output_type": "execute_result"
    }
   ],
   "source": []
  },
  {
   "cell_type": "code",
   "execution_count": null,
   "metadata": {},
   "outputs": [],
   "source": []
  }
 ],
 "metadata": {
  "interpreter": {
   "hash": "2a3f1949715c4c2150ada30d600e95cbed21e98c3870dff0d97e6637efeff1cd"
  },
  "kernelspec": {
   "display_name": "Python 3.9.6 ('bfx-main')",
   "language": "python",
   "name": "python3"
  },
  "language_info": {
   "codemirror_mode": {
    "name": "ipython",
    "version": 3
   },
   "file_extension": ".py",
   "mimetype": "text/x-python",
   "name": "python",
   "nbconvert_exporter": "python",
   "pygments_lexer": "ipython3",
   "version": "3.9.6"
  }
 },
 "nbformat": 4,
 "nbformat_minor": 4
}
